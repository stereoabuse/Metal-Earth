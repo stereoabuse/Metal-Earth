{
 "cells": [
  {
   "cell_type": "markdown",
   "metadata": {},
   "source": [
    "# Metal Earth Analysis\n",
    "\n",
    "Analyzing the intersection of Tolkien references and metal band names from Metal Archives."
   ]
  },
  {
   "cell_type": "code",
   "execution_count": 5,
   "metadata": {},
   "outputs": [
    {
     "ename": "ModuleNotFoundError",
     "evalue": "No module named 'pandas'",
     "output_type": "error",
     "traceback": [
      "\u001b[0;31m---------------------------------------------------------------------------\u001b[0m",
      "\u001b[0;31mModuleNotFoundError\u001b[0m                       Traceback (most recent call last)",
      "Cell \u001b[0;32mIn[5], line 1\u001b[0m\n\u001b[0;32m----> 1\u001b[0m \u001b[38;5;28;01mimport\u001b[39;00m \u001b[38;5;21;01mpandas\u001b[39;00m \u001b[38;5;28;01mas\u001b[39;00m \u001b[38;5;21;01mpd\u001b[39;00m\n\u001b[1;32m      2\u001b[0m \u001b[38;5;28;01mimport\u001b[39;00m \u001b[38;5;21;01mmatplotlib\u001b[39;00m\u001b[38;5;21;01m.\u001b[39;00m\u001b[38;5;21;01mpyplot\u001b[39;00m \u001b[38;5;28;01mas\u001b[39;00m \u001b[38;5;21;01mplt\u001b[39;00m\n\u001b[1;32m      3\u001b[0m \u001b[38;5;28;01mimport\u001b[39;00m \u001b[38;5;21;01mseaborn\u001b[39;00m \u001b[38;5;28;01mas\u001b[39;00m \u001b[38;5;21;01msns\u001b[39;00m\n",
      "\u001b[0;31mModuleNotFoundError\u001b[0m: No module named 'pandas'"
     ]
    }
   ],
   "source": [
    "import pandas as pd\n",
    "import matplotlib.pyplot as plt\n",
    "import seaborn as sns\n",
    "from collections import Counter\n",
    "\n",
    "# Set up plotting\n",
    "plt.style.use('seaborn')\n",
    "plt.rcParams['figure.figsize'] = [12, 6]\n",
    "sns.set_palette('deep')"
   ]
  },
  {
   "cell_type": "markdown",
   "metadata": {},
   "source": [
    "## Load and Clean Data"
   ]
  },
  {
   "cell_type": "code",
   "execution_count": null,
   "metadata": {},
   "outputs": [],
   "source": [
    "# Load the data\n",
    "df = pd.read_csv('reports/metal_band_matches.csv')\n",
    "\n",
    "# Create a matches-only dataframe\n",
    "matches_df = df[df['Band Name'] != 'No match found'].copy()\n",
    "\n",
    "print(f\"Total terms checked: {len(df)}\")\n",
    "print(f\"Terms with matches: {len(matches_df)}\")\n",
    "print(f\"Match rate: {len(matches_df)/len(df):.2%}\")"
   ]
  },
  {
   "cell_type": "markdown",
   "metadata": {},
   "source": [
    "## Most Popular References"
   ]
  },
  {
   "cell_type": "code",
   "execution_count": null,
   "metadata": {},
   "outputs": [],
   "source": [
    "# Count and plot most common search terms that found matches\n",
    "term_counts = matches_df['Search Name'].value_counts()\n",
    "\n",
    "plt.figure(figsize=(15, 8))\n",
    "term_counts.head(20).plot(kind='bar')\n",
    "plt.title('Most Common Tolkien References Used by Metal Bands')\n",
    "plt.xlabel('Reference')\n",
    "plt.ylabel('Number of Bands')\n",
    "plt.xticks(rotation=45, ha='right')\n",
    "plt.tight_layout()\n",
    "\n",
    "# Print the top 10 with counts\n",
    "print(\"\\nTop 10 Most Used References:\")\n",
    "for term, count in term_counts.head(10).items():\n",
    "    print(f\"{term}: {count} bands\")"
   ]
  },
  {
   "cell_type": "markdown",
   "metadata": {},
   "source": [
    "## Reference Categories\n",
    "\n",
    "Let's categorize some of the major references we see in the data."
   ]
  },
  {
   "cell_type": "code",
   "execution_count": null,
   "metadata": {},
   "outputs": [],
   "source": [
    "# Define categories (based on the data we can see)\n",
    "categories = {\n",
    "    'Locations': ['Minas', 'Mordor', 'Gondor', 'Mirkwood', 'Angband', 'Gorgoroth'],\n",
    "    'Characters': ['Gothmog', 'Gorthaur', 'Azog', 'Maeglin', 'Maedhros', 'Luthien'],\n",
    "    'Artifacts': ['Aeglos', 'Great Horn', 'Black Sword'],\n",
    "    'Creatures': ['Maiar', 'Balrog', 'Dragon', 'Warg'],\n",
    "    'Concepts': ['Evil', 'Dark', 'Black', 'Death']\n",
    "}\n",
    "\n",
    "def categorize_term(term):\n",
    "    for category, terms in categories.items():\n",
    "        if any(ref.lower() in term.lower() for ref in terms):\n",
    "            return category\n",
    "    return 'Other'\n",
    "\n",
    "matches_df['Category'] = matches_df['Search Name'].apply(categorize_term)\n",
    "\n",
    "# Plot distribution of categories\n",
    "plt.figure(figsize=(10, 10))\n",
    "matches_df['Category'].value_counts().plot(kind='pie', autopct='%1.1f%%')\n",
    "plt.title('Distribution of Tolkien Reference Categories in Metal Band Names')"
   ]
  },
  {
   "cell_type": "markdown",
   "metadata": {},
   "source": [
    "## Name Length Analysis"
   ]
  },
  {
   "cell_type": "code",
   "execution_count": null,
   "metadata": {},
   "outputs": [],
   "source": [
    "# Analyze term lengths\n",
    "matches_df['Term Length'] = matches_df['Search Name'].str.len()\n",
    "\n",
    "plt.figure(figsize=(12, 6))\n",
    "sns.histplot(data=matches_df, x='Term Length', bins=30)\n",
    "plt.title('Distribution of Tolkien Reference Lengths in Band Names')\n",
    "plt.xlabel('Length of Term')\n",
    "plt.ylabel('Count')\n",
    "\n",
    "# Print some statistics\n",
    "print(\"\\nReference Length Statistics:\")\n",
    "print(matches_df['Term Length'].describe())"
   ]
  },
  {
   "cell_type": "markdown",
   "metadata": {},
   "source": [
    "## Multiple Band Analysis\n",
    "\n",
    "Looking at terms that have been used by multiple bands."
   ]
  },
  {
   "cell_type": "code",
   "execution_count": null,
   "metadata": {},
   "outputs": [],
   "source": [
    "# Find terms used by multiple bands\n",
    "multiple_uses = matches_df['Search Name'].value_counts()\n",
    "multiple_uses = multiple_uses[multiple_uses > 1]\n",
    "\n",
    "print(f\"Number of terms used by multiple bands: {len(multiple_uses)}\")\n",
    "print(\"\\nMost reused terms:\")\n",
    "print(multiple_uses.head(10))\n",
    "\n",
    "# Plot distribution of reuse\n",
    "plt.figure(figsize=(10, 6))\n",
    "sns.histplot(data=multiple_uses.values, bins=20)\n",
    "plt.title('Distribution of Band Name Reuse')\n",
    "plt.xlabel('Number of Bands Using the Term')\n",
    "plt.ylabel('Count of Terms')"
   ]
  },
  {
   "cell_type": "markdown",
   "metadata": {},
   "source": [
    "## Key Findings\n",
    "\n",
    "1. Most commonly used references:\n",
    "   - [List top findings]\n",
    "\n",
    "2. Category distribution:\n",
    "   - [List category insights]\n",
    "\n",
    "3. Name length patterns:\n",
    "   - [List length patterns]\n",
    "\n",
    "4. Multiple usage patterns:\n",
    "   - [List reuse patterns]\n",
    "\n",
    "## Future Analysis Ideas\n",
    "\n",
    "1. Cross-reference with band genres (would need additional data)\n",
    "2. Geographic analysis of bands using Tolkien references\n",
    "3. Timeline analysis of when these bands were formed\n",
    "4. Analysis of band name modifications (e.g., adding prefixes/suffixes to Tolkien terms)\n",
    "5. Network analysis of related terms"
   ]
  }
 ],
 "metadata": {
  "kernelspec": {
   "display_name": "venv",
   "language": "python",
   "name": "python3"
  },
  "language_info": {
   "codemirror_mode": {
    "name": "ipython",
    "version": 3
   },
   "file_extension": ".py",
   "mimetype": "text/x-python",
   "name": "python",
   "nbconvert_exporter": "python",
   "pygments_lexer": "ipython3",
   "version": "3.12.0"
  }
 },
 "nbformat": 4,
 "nbformat_minor": 2
}
